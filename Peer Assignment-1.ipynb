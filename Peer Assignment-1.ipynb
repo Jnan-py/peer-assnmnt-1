{
 "cells": [
  {
   "cell_type": "markdown",
   "id": "8b61b7a9",
   "metadata": {},
   "source": [
    "# Peer Assignment -1"
   ]
  },
  {
   "cell_type": "markdown",
   "id": "9efe2bf9",
   "metadata": {},
   "source": [
    "I am Yalla Jnan Devi Satya Prasad\n",
    "I am an undergraduate \n",
    "I took this course because I found the topic of Data Science interesting"
   ]
  },
  {
   "cell_type": "markdown",
   "id": "2a6a6edb",
   "metadata": {},
   "source": [
    "## Data Science Languages\n",
    "- Python\n",
    "- R\n",
    "- SQL\n"
   ]
  },
  {
   "cell_type": "markdown",
   "id": "2b0b74af",
   "metadata": {},
   "source": [
    "## Data Science libraries\n",
    "- NumPy\n",
    "- pandas\n",
    "- Matplotlib\n"
   ]
  },
  {
   "cell_type": "markdown",
   "id": "864a1df6",
   "metadata": {},
   "source": [
    "| Tool        | Description           |\n",
    "|-------------|-----------------------|\n",
    "| Jupyter     | Interactive notebooks |\n",
    "| TensorFlow  | Machine learning      |\n",
    "| scikit-learn| Machine learning      |\n"
   ]
  },
  {
   "cell_type": "markdown",
   "id": "40b6f39f",
   "metadata": {},
   "source": [
    "# Introduction to Arithmetic Expression Examples\n",
    "\n",
    "Arithmetic expressions involve mathematical operations such as addition, subtraction, multiplication, and division. These expressions are fundamental in mathematics and are used extensively in various fields including programming, engineering, finance, and science.\n",
    "\n",
    "In this section, we will explore examples of arithmetic expressions using Python code. We will demonstrate how to perform basic arithmetic operations and showcase their applications in solving practical problems. Through these examples, you will gain a better understanding of how arithmetic expressions are constructed and utilized in computational tasks.\n"
   ]
  },
  {
   "cell_type": "code",
   "execution_count": 1,
   "id": "cea4d243",
   "metadata": {},
   "outputs": [
    {
     "name": "stdout",
     "output_type": "stream",
     "text": [
      "Multiplication result: 15\n",
      "Addition result: 8\n"
     ]
    }
   ],
   "source": [
    "\n",
    "a = 5\n",
    "b = 3\n",
    "multiplication_result = a * b\n",
    "addition_result = a + b\n",
    "print(\"Multiplication result:\", multiplication_result)\n",
    "print(\"Addition result:\", addition_result)\n"
   ]
  },
  {
   "cell_type": "code",
   "execution_count": 2,
   "id": "496cbe81",
   "metadata": {},
   "outputs": [
    {
     "name": "stdout",
     "output_type": "stream",
     "text": [
      "Hours: 2.0\n"
     ]
    }
   ],
   "source": [
    "\n",
    "minutes = 120\n",
    "hours = minutes / 60\n",
    "print(\"Hours:\", hours)\n"
   ]
  },
  {
   "cell_type": "markdown",
   "id": "f9570581",
   "metadata": {},
   "source": [
    "# Objectives\n",
    "\n",
    "The objectives of this notebook are as follows:\n",
    "\n",
    "1. Introduce fundamental concepts in data science and programming.\n",
    "2. Explore common data science languages and libraries.\n",
    "3. Demonstrate basic arithmetic operations using Python.\n",
    "4. Showcase practical examples of arithmetic expressions and their applications.\n",
    "5. Provide an overview of data science tools and their functionalities.\n",
    "6. Share insights into effective collaboration and version control using GitHub."
   ]
  },
  {
   "cell_type": "markdown",
   "id": "13df59c3",
   "metadata": {},
   "source": [
    "**Author: Jnan Yalla**\n"
   ]
  },
  {
   "cell_type": "code",
   "execution_count": null,
   "id": "c1ae0952",
   "metadata": {},
   "outputs": [],
   "source": []
  }
 ],
 "metadata": {
  "kernelspec": {
   "display_name": "Python 3 (ipykernel)",
   "language": "python",
   "name": "python3"
  },
  "language_info": {
   "codemirror_mode": {
    "name": "ipython",
    "version": 3
   },
   "file_extension": ".py",
   "mimetype": "text/x-python",
   "name": "python",
   "nbconvert_exporter": "python",
   "pygments_lexer": "ipython3",
   "version": "3.11.5"
  }
 },
 "nbformat": 4,
 "nbformat_minor": 5
}
